{
  "nbformat": 4,
  "nbformat_minor": 0,
  "metadata": {
    "colab": {
      "provenance": [],
      "authorship_tag": "ABX9TyM6CKFYSe4Lfc0nZD6vE9wm",
      "include_colab_link": true
    },
    "kernelspec": {
      "name": "python3",
      "display_name": "Python 3"
    },
    "language_info": {
      "name": "python"
    }
  },
  "cells": [
    {
      "cell_type": "markdown",
      "metadata": {
        "id": "view-in-github",
        "colab_type": "text"
      },
      "source": [
        "<a href=\"https://colab.research.google.com/github/Carolduplex/bootcampo_FDAMANHA/blob/main/Aula_presencial_3.ipynb\" target=\"_parent\"><img src=\"https://colab.research.google.com/assets/colab-badge.svg\" alt=\"Open In Colab\"/></a>"
      ]
    },
    {
      "cell_type": "code",
      "execution_count": 4,
      "metadata": {
        "colab": {
          "base_uri": "https://localhost:8080/"
        },
        "id": "_wDA5g9vJt32",
        "outputId": "e6fff7ff-05ff-47b1-da1c-75aa57cc3092"
      },
      "outputs": [
        {
          "output_type": "stream",
          "name": "stdout",
          "text": [
            "['Ana'] ['Nicol']\n"
          ]
        }
      ],
      "source": [
        ":import numpy as np\n",
        "from numpy import array as ar\n",
        "\n",
        "nomes = [\"Ana\", \"Nicol\"]\n",
        "nomes = ar(nomes)\n",
        "array1, array2 = np.split(nomes, 2)\n",
        "\n",
        "print(array1, array2)"
      ]
    },
    {
      "cell_type": "markdown",
      "source": [
        "Criando funcoes costumisaveis"
      ],
      "metadata": {
        "id": "BQtcd5D_MYv7"
      }
    },
    {
      "cell_type": "code",
      "source": [
        "def gritar():\n",
        "  print(\"AAAAAAAAAAAAAAAAAAAAAAAAAAAAAAAA\")"
      ],
      "metadata": {
        "id": "j15_fpOuMA3q"
      },
      "execution_count": null,
      "outputs": []
    },
    {
      "cell_type": "code",
      "source": [
        "def media(lista):\n",
        "  soma = sum(lista)\n",
        "  tamanho = len(lista)\n",
        "  return soma/tamanho\n",
        "\n",
        "\n",
        "  lista = [1, 3, 9, 15, 67]\n",
        "  Amedia = media(lista)\n",
        "  print(\"A media e {Amedia}\")\n"
      ],
      "metadata": {
        "id": "EejKxlFfNPai"
      },
      "execution_count": null,
      "outputs": []
    },
    {
      "cell_type": "code",
      "source": [
        "def IMC(peso, altura):\n",
        "  imc = peso/(altura**2)\n",
        "  if imc>25:\n",
        "    mensagem =\"voce esta acima do peso\"\n",
        "  else:\n",
        "    mensagem = \"voce nao esta acima do peso\"\n",
        "  return imc, mensagem\n",
        "\n",
        "peso = 65\n",
        "altura = 1.8\n",
        "\n",
        "imc, mensagem = IMC(peso, altura)\n",
        "\n",
        "print(mensagem)"
      ],
      "metadata": {
        "colab": {
          "base_uri": "https://localhost:8080/"
        },
        "id": "_ZqVUsO3N4Xx",
        "outputId": "bac0003c-5760-4d4f-d863-b378f34479b7"
      },
      "execution_count": 10,
      "outputs": [
        {
          "output_type": "stream",
          "name": "stdout",
          "text": [
            "voce nao esta acima do peso\n"
          ]
        }
      ]
    },
    {
      "cell_type": "markdown",
      "source": [
        "#Criando tuplas e manipulando listas\n",
        "Tuplas sao criadas itilizado o parenteses tula = [()]\n",
        "A funcao zip() nos permite unir listas retornando um ponteiro onde esta a tupla criada com n dimensoes de m elementos por linha onde n e o numero de liistas unidas e m quantos elementos a menor lista possue"
      ],
      "metadata": {
        "id": "stjVbU2LRsRs"
      }
    },
    {
      "cell_type": "code",
      "source": [],
      "metadata": {
        "id": "SxpeWnpdR20D"
      },
      "execution_count": null,
      "outputs": []
    }
  ]
}