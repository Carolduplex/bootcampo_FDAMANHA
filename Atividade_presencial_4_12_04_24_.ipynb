{
  "nbformat": 4,
  "nbformat_minor": 0,
  "metadata": {
    "colab": {
      "provenance": [],
      "include_colab_link": true
    },
    "kernelspec": {
      "name": "python3",
      "display_name": "Python 3"
    },
    "language_info": {
      "name": "python"
    }
  },
  "cells": [
    {
      "cell_type": "markdown",
      "metadata": {
        "id": "view-in-github",
        "colab_type": "text"
      },
      "source": [
        "<a href=\"https://colab.research.google.com/github/Carolduplex/bootcampo_FDAMANHA/blob/main/Atividade_presencial_4_12_04_24_.ipynb\" target=\"_parent\"><img src=\"https://colab.research.google.com/assets/colab-badge.svg\" alt=\"Open In Colab\"/></a>"
      ]
    },
    {
      "cell_type": "markdown",
      "source": [
        "# Atividade presencial - Pandas (DataFrames) 12/04/24\n",
        "\n",
        "Na aula de hoje iremos ver o básico do pacote Pandas, mais especificamente, iremos manipular os DataFrames. Iremos trabalhar com dados reais do Mercado financeiro.\n",
        "\n",
        "Na semana passada vimos que o Python pode usar pacotes para se especializar em diversas áreas. Iremos utilizar o pacote yfinance que puxa dados financeiros do Yahoo Finance."
      ],
      "metadata": {
        "id": "9jDEpcmFkCVC"
      }
    },
    {
      "cell_type": "code",
      "execution_count": null,
      "metadata": {
        "id": "CKaXPOnnGMPX"
      },
      "outputs": [],
      "source": [
        "#Importa os pacotes básicos\n",
        "import yfinance as yf\n",
        "import pandas as pd\n",
        "import numpy as np"
      ]
    },
    {
      "cell_type": "markdown",
      "source": [
        "Um ticker é o símbolo pelo qual um ativo financeiro é identificado dentro da bolsa de valores. Iremos utilizar os tickers PETR4, VALE3, BBAS3 e ^BVSP que são os tickers das ações ordinárias da Petrobras, Vale do Rio Doce, Banco do Brasil e do Ibovespa.\n",
        "\n",
        "Como os tickers são brasileiros, é necessário utilizar o sufixo \".SA\" para ações. O Ibovespa é um indice de mercado então também é diferente."
      ],
      "metadata": {
        "id": "pw8ptHVymyAl"
      }
    },
    {
      "cell_type": "code",
      "source": [
        "#Cria uma lista dos tickers\n",
        "tickers = ['PETR4.SA', 'VALE3.SA', 'BBAS3.SA', '^BVSP']\n",
        "\n",
        "#Baixa e arruma o DataFrame\n",
        "dados = yf.download(tickers, start = '2020-01-01', end = '2023-12-31')\n",
        "dados = dados.stack().reset_index(level=1)\n",
        "dados.columns.name = None"
      ],
      "metadata": {
        "colab": {
          "base_uri": "https://localhost:8080/"
        },
        "id": "s9jrpYKnGuS8",
        "outputId": "4ba96038-02db-4318-86a5-1f529ac199c6"
      },
      "execution_count": null,
      "outputs": [
        {
          "output_type": "stream",
          "name": "stderr",
          "text": [
            "[*********************100%%**********************]  4 of 4 completed\n"
          ]
        }
      ]
    },
    {
      "cell_type": "markdown",
      "source": [
        "## DataFrames\n",
        "\n",
        "DataFrames podem ser descritos como uma classe para ler e organizar dados tabulares, ou seja, dados organizados em linhas e colunas. Eles podem ser comparados a uma base de dados ou uma planilha do Excel, sendo comumente usados para ler esses últimos.\n",
        "\n",
        "Criamos o DataFrame antes, vamos analisá-lo? Primeiro, vamos ver as primeiras linhas dele pra entender um pouco como ele é. Podemos fazer isso com a função `.head()`"
      ],
      "metadata": {
        "id": "Vqxduylzs19h"
      }
    },
    {
      "cell_type": "code",
      "source": [
        "#Primeiras linhas do Dataframe"
      ],
      "metadata": {
        "id": "PXQvSVzkQCoU"
      },
      "execution_count": null,
      "outputs": []
    },
    {
      "cell_type": "markdown",
      "source": [
        "Outra maneira de conhecer melhor os dados é utilizando a função `.info()`:"
      ],
      "metadata": {
        "id": "JbR46THF795o"
      }
    },
    {
      "cell_type": "code",
      "source": [
        "#Informação do DataFrame"
      ],
      "metadata": {
        "id": "PwSqJ4an8LOL"
      },
      "execution_count": null,
      "outputs": []
    },
    {
      "cell_type": "markdown",
      "source": [
        "Como podemos ver, temos 7 colunas, com 3972 linhas. Nenhuma dessas colunas contém dados nulos. Um jeito mais fácil de ver o tamanho de um DataFrame é utilizando o atributo `.shape`. Ele retorna uma tupla com o número de linhas e colunas."
      ],
      "metadata": {
        "id": "WPs9Dm1H8Mwy"
      }
    },
    {
      "cell_type": "code",
      "source": [
        "#Informações da linha e colunas"
      ],
      "metadata": {
        "id": "phqL3WQV88BB"
      },
      "execution_count": null,
      "outputs": []
    },
    {
      "cell_type": "markdown",
      "source": [
        "Reparem como o argumento é idêntico ao utilizado para o array dos Pandas, dando resultado parecidos também. Isso acontece porque o Pandas é baseado no Numpy (e no MatPlotLib).\n",
        "\n",
        "Visto a natureza dos dados, a função `.describe()` pode ser usada para serem obtidos os momentos estatísticos das colunas."
      ],
      "metadata": {
        "id": "iAoPXzHz9S1Q"
      }
    },
    {
      "cell_type": "code",
      "source": [
        "#Dados estatísticos das colunas"
      ],
      "metadata": {
        "id": "XBJWDZKfCLIK"
      },
      "execution_count": null,
      "outputs": []
    },
    {
      "cell_type": "markdown",
      "source": [
        "## Atividade 1\n",
        "Escolha duas ou mais ações. Baixe elas e o índice de mercado do mercado que ela faz parte. Veja as 15 primeiras linhas, confira se não tem valores nulos e veja suas estatísticas básicas."
      ],
      "metadata": {
        "id": "FQIfnsIp9zTt"
      }
    },
    {
      "cell_type": "code",
      "source": [],
      "metadata": {
        "id": "_Dhqyd-v-SfM"
      },
      "execution_count": null,
      "outputs": []
    },
    {
      "cell_type": "markdown",
      "source": [
        "## Indexação e Filtros\n",
        "\n",
        "Primeiro, vamos entender as colunas do DataFrame. Temos 7 colunas:\n",
        "\n",
        "\n",
        "\n",
        "*   Ticker: É o símbolo que caracteriza a ação;\n",
        "*   Adj Close: É o preço de fechamento ajustado;\n",
        "*   Close: É o preço de fechamento de ação;\n",
        "*   High: É o preço mais alto da ação durante o dia;\n",
        "*   Low: É o preço mais baixo da ação durante o dia;\n",
        "*   Open: É o preço de abertura de ação;\n",
        "*   Volume: É o volume de ações negociadas durante o dia.\n",
        "\n",
        "Dessas colunas, as mais importantes são a de preço ajustado e de tickers. Iremos analisar como selecioná-las.\n",
        "\n",
        "Primeiramente, precisamos destacar que um DataFrame é fatiado de maneira parecida com um dicionário.\n"
      ],
      "metadata": {
        "id": "KMQm2CrkC7sl"
      }
    },
    {
      "cell_type": "code",
      "source": [
        "#Seleciona uma coluna"
      ],
      "metadata": {
        "id": "t4J0DCIkM3Wl"
      },
      "execution_count": null,
      "outputs": []
    },
    {
      "cell_type": "code",
      "source": [
        "#Seleciona várias colunas"
      ],
      "metadata": {
        "id": "aFPCDVKwUurg"
      },
      "execution_count": null,
      "outputs": []
    },
    {
      "cell_type": "markdown",
      "source": [
        "Entretanto, vamos supor que eu queira dois dataframes de preços, um com os \"preços\" do Ibovespa e outro com o preço das ações. Como eu poderia fazer?\n",
        "\n",
        "Há umas 10 maneiras de fazer isso no Pandas. Mas iremos ver a query e utilizando máscaras. A query é uma função dos dataframes que permite fazer o que é tradicionalmente chamado de query. É utilizado uma string lógica e retorna-se uma dataframe em conformidade com ela. Por exemplo:"
      ],
      "metadata": {
        "id": "CdhL5K0fO3eU"
      }
    },
    {
      "cell_type": "code",
      "source": [
        "#Só Ibovespa"
      ],
      "metadata": {
        "id": "pIwXUZj2QXnQ"
      },
      "execution_count": null,
      "outputs": []
    },
    {
      "cell_type": "code",
      "source": [
        "#Preços ações usando query"
      ],
      "metadata": {
        "id": "FOrWIcPIPtBA"
      },
      "execution_count": null,
      "outputs": []
    },
    {
      "cell_type": "markdown",
      "source": [
        "A função query é equivalente ao uso de máscaras. Por máscaras, falamos na criação de um dataframe de booleanas que utilizamos como índice para o DataFrame."
      ],
      "metadata": {
        "id": "NNDOaKnzR3z2"
      }
    },
    {
      "cell_type": "code",
      "source": [
        "#Exemplo máscara Ibovespa"
      ],
      "metadata": {
        "id": "cTN6QCpaSPyb"
      },
      "execution_count": null,
      "outputs": []
    },
    {
      "cell_type": "markdown",
      "source": [
        "Assim, podemos fazer as mesmas \"querys\" somente filtrando os DataFrames."
      ],
      "metadata": {
        "id": "J-XXFlokS2pg"
      }
    },
    {
      "cell_type": "code",
      "source": [
        "#Preços Ibovespa"
      ],
      "metadata": {
        "id": "I4oaSr7xTNRS"
      },
      "execution_count": null,
      "outputs": []
    },
    {
      "cell_type": "markdown",
      "source": [
        "Para casos em que usariámos o operador `in`, utilizamos a função do DataFrame `.coluna.isin()`."
      ],
      "metadata": {
        "id": "nrNAC01dV-2w"
      }
    },
    {
      "cell_type": "code",
      "source": [
        "#Preços ações"
      ],
      "metadata": {
        "id": "-1kXZ_OqTXuM"
      },
      "execution_count": null,
      "outputs": []
    },
    {
      "cell_type": "markdown",
      "source": [
        "## Atividade 2\n",
        "Calcule a variação no preço diária para cada linha (do Dataframe da atividade 1 ou da aula). Depois veja a média para cada uma das ações. Calcule a média e e o desvio padrão dos retornos de cada ação. Analise se alguma delas teve um retorno maior que o índice e se alguma teve um risco maior que o índice."
      ],
      "metadata": {
        "id": "5SyabfSs-r6K"
      }
    },
    {
      "cell_type": "code",
      "source": [],
      "metadata": {
        "id": "riWCTM8WBK-a"
      },
      "execution_count": null,
      "outputs": []
    },
    {
      "cell_type": "markdown",
      "source": [
        "## Agregações, Apply e Drop\n",
        "\n",
        "Conseguimos separar as ações do Ibovespa. Agora, se usarmos de novo a função `.describe()` veremos que os preços não está tão discrepantes."
      ],
      "metadata": {
        "id": "PtTz-zeSWROC"
      }
    },
    {
      "cell_type": "code",
      "source": [
        "#Descreve os artigo"
      ],
      "metadata": {
        "id": "fVycif_LYYFY"
      },
      "execution_count": null,
      "outputs": []
    },
    {
      "cell_type": "markdown",
      "source": [
        "Entretanto, o preço de uma ação é muito diferente da outra, seria interessante nesse caso, fazer esse tipo de análise pra cada ação. Uma maneira de fazer isso é usando a função `.groupby()`"
      ],
      "metadata": {
        "id": "H7yA2f48ZAQV"
      }
    },
    {
      "cell_type": "code",
      "source": [
        "#Agrupa e descreve"
      ],
      "metadata": {
        "id": "KqPbFLmNZM1x"
      },
      "execution_count": null,
      "outputs": []
    },
    {
      "cell_type": "markdown",
      "source": [
        "Dessa maneira, conseguimos ver melhor as estatísticas de cada uma das ações analisadas.\n",
        "\n",
        "Até o momento, só analisamos o preço das ações. Mas nas finanças, comumente se analisa o Retorno. O retorno é uma estatística muito mais robusta e é muito mais fácil de ser comparada entre as ações. Independente do preço, uma ação com retorno de 10% é melhor que uma com 5%.\n",
        "\n",
        "Para calcular o retorno, iremos usar a seguinte fórmula:\n",
        "(Pt/Pt-1) - 1,\n",
        "onde Pt é preço no tempo t e Pt-1 é o preço t no menos um.\n",
        "\n",
        "Para calcular isso, iremos usar o `.apply()`:"
      ],
      "metadata": {
        "id": "7gNG0zPywfAJ"
      }
    },
    {
      "cell_type": "code",
      "source": [
        "#Função para calcular o retorno"
      ],
      "metadata": {
        "id": "mYeR7SjZyULp"
      },
      "execution_count": null,
      "outputs": []
    },
    {
      "cell_type": "markdown",
      "source": [
        "Com os retornos calculados, podemos analisar de novo e ver qual ação é melhor:"
      ],
      "metadata": {
        "id": "Zna3STuc1-U0"
      }
    },
    {
      "cell_type": "code",
      "source": [
        "#Descreve os retornos"
      ],
      "metadata": {
        "id": "2vnZyiTn19j-"
      },
      "execution_count": null,
      "outputs": []
    },
    {
      "cell_type": "markdown",
      "source": [
        "Vejam que com os retornos, tivemos resultados interessantes. Agora suponhamos que queremos tirar a primeira linha com os retornos nulos. Podemos usar a função `.drop()`:"
      ],
      "metadata": {
        "id": "Qf9djm0o38tu"
      }
    },
    {
      "cell_type": "code",
      "source": [
        "#Remove 02 de janeiro"
      ],
      "metadata": {
        "id": "LKnjV0Tx5ud2"
      },
      "execution_count": null,
      "outputs": []
    },
    {
      "cell_type": "markdown",
      "source": [
        "Com isso, podemos fazer um gráfico dos retornos das ações, para isso basta usara funçõa `.plot()`:"
      ],
      "metadata": {
        "id": "SNqWooZN6LYx"
      }
    },
    {
      "cell_type": "code",
      "source": [
        "#Faz o gráfico"
      ],
      "metadata": {
        "id": "RWr9NSTZ6YwT"
      },
      "execution_count": null,
      "outputs": []
    },
    {
      "cell_type": "markdown",
      "source": [
        "O gráfico ficou confuso, mas dado a facilidade de ser feito, é extremamente interessante. Uma maneira de analisar melhor os resultados seriamos fazer o retorno acumulado de cada ação. Vamos supor que invistamos 100 reais no inicio de 2020. Quanto ganhariamos no total?"
      ],
      "metadata": {
        "id": "aZ31Tws66iEu"
      }
    },
    {
      "cell_type": "code",
      "source": [
        "#Retornos acumulados começando com 100"
      ],
      "metadata": {
        "id": "3RWe850N7nGj"
      },
      "execution_count": null,
      "outputs": []
    },
    {
      "cell_type": "markdown",
      "source": [
        "## Atividade 3\n",
        "Calcule o retorno do índice de mercado. Na sequencia adicione uma coluna com o índice de mercado. Repita o gráfico anterior. Por último, baixe o índice do S&P 500 e compare com as outras ações. Qual a ação/índice que deu mais retorno?\n"
      ],
      "metadata": {
        "id": "GtX37visCdyK"
      }
    }
  ]
}