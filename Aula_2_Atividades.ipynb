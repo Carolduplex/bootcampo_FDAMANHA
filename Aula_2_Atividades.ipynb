{
  "nbformat": 4,
  "nbformat_minor": 0,
  "metadata": {
    "colab": {
      "provenance": [],
      "include_colab_link": true
    },
    "kernelspec": {
      "name": "python3",
      "display_name": "Python 3"
    },
    "language_info": {
      "name": "python"
    }
  },
  "cells": [
    {
      "cell_type": "markdown",
      "metadata": {
        "id": "view-in-github",
        "colab_type": "text"
      },
      "source": [
        "<a href=\"https://colab.research.google.com/github/Carolduplex/bootcampo_FDAMANHA/blob/main/Aula_2_Atividades.ipynb\" target=\"_parent\"><img src=\"https://colab.research.google.com/assets/colab-badge.svg\" alt=\"Open In Colab\"/></a>"
      ]
    },
    {
      "cell_type": "markdown",
      "source": [
        "# Atividades NumPy\n",
        "\n",
        "NumPy é um pacote extremamente interessante e necessário de aprender pois ele é o que está por trás de diversos pacotes mais avançados (alguns que veremos) do Pyhon. Alguns desses pacotes incluem o Pandas, Seaborn, Scikit-Learn e Tensorflow.\n",
        "\n",
        "A seguir serão passadas algumas atividades simples para a fixação do conteúdo."
      ],
      "metadata": {
        "id": "6g_L-PwS_tPa"
      }
    },
    {
      "cell_type": "code",
      "source": [
        "#Rode esse código para usar o numpy, sinta-se livre para alterá-lo.\n",
        "import numpy as np"
      ],
      "metadata": {
        "id": "jaMPX9rGEApx"
      },
      "execution_count": 1,
      "outputs": []
    },
    {
      "cell_type": "markdown",
      "source": [
        "## Atividade 1\n",
        "\n",
        "Crie um Array que vá do número 2017 até 2024. Comente qual a principal diferença de um array para uma lista? Printe o tipo do array e o tipo dos elementos do array. Transforme esse array num array bidimensional.\n",
        "\n",
        "Desafio:\n",
        "Mude o tipo dos elementos array para o que ocupe menos memória possível sem alterar os elementos do array."
      ],
      "metadata": {
        "id": "5KBF94wnAb1i"
      }
    },
    {
      "cell_type": "markdown",
      "source": [
        "####Resposta: Diferença entre arrays e listas\n",
        "Listas são estruturas de dados presentes no python que podem receber um conjunto de elementos. Esses elementos podem ter qualquer um dos tipos de dados encontrados no python, incluindo outras listas, ou seja, dentro de uma lista única lista pode haver elementos tipo char, int e float.\n",
        "\n",
        "Arrays são estruturas de dados definidas na biblioteca Numpy que também recebem conjuntos de dados, assim como as listas porém o processamento númerico dos elementos de um array, em geral, é consideravelmente mais rápido."
      ],
      "metadata": {
        "id": "ZQjKuI5DDPMh"
      }
    },
    {
      "cell_type": "code",
      "execution_count": 26,
      "metadata": {
        "id": "54JsgjI__n_W",
        "colab": {
          "base_uri": "https://localhost:8080/"
        },
        "outputId": "a92b1227-969d-4c12-ee4a-5c97db9842b5"
      },
      "outputs": [
        {
          "output_type": "stream",
          "name": "stdout",
          "text": [
            "(8,) [2017 2018 2019 2020 2021 2022 2023 2024]\n",
            "<class 'numpy.ndarray'> <class 'numpy.int64'>\n",
            "(8,) [2017 2018 2019 2020 2021 2022 2023 2024]\n",
            "<class 'numpy.ndarray'> <class 'numpy.int32'>\n",
            "(8,) [2017 2018 2019 2020 2021 2022 2023 2024]\n",
            "<class 'numpy.ndarray'> <class 'numpy.int16'>\n",
            "2 [[2017 2018 2019 2020]\n",
            " [2021 2022 2023 2024]]\n"
          ]
        }
      ],
      "source": [
        "anos = np.arange(2017,2025, 1) #uso da função arange cotida na bib Numpy que cria uma sequência ordenada de números, declarada da seguinte forma numpy.arange(inicio, fim, passo)\n",
        "print(anos.shape, anos)\n",
        "print(type(anos), type(anos[1])) #aqui podemos conferir qual o tipo da variável 'anos' e o tipo dos dados dentro dela\n",
        "\n",
        "#Podemos transformar o array unidimensional 'anos' em um array bidimensional com a função numpy.reshape()\n",
        "#da seguinte forma array.reshape(n de aglomerados, quantos elementos em cada aglomerado)\n",
        "#não podemos esquecer que essas divisões devem ser compatíveis com o número total de elementos no array inicial\n",
        "anos_bidimensional = anos.reshape(2, 4)\n",
        "\n",
        "print(anos_bidimensional.ndim, anos_bidimensional)\n",
        "\n",
        "#O mesmo array porém ocupando metade do espaço de memório do primeiro\n",
        "anos_2 = np.arange(2017, 2025,1, dtype=np.int32)\n",
        "print(anos_2.shape, anos_2)\n",
        "print(type(anos_2), type(anos_2[1]))\n",
        "\n",
        "#O mesmo array porém ocupando 1/4 do espaço de memório do primeiro\n",
        "anos_3 = np.arange(2017, 2025,1, dtype=np.int16)\n",
        "print(anos_3.shape, anos_3)\n",
        "print(type(anos_3), type(anos_3[1]))"
      ]
    },
    {
      "cell_type": "markdown",
      "source": [
        "## Atividade 2\n",
        "\n",
        "1.   Crie um array de números aleatórios entre 0 e 10;\n",
        "2.   Defina um valor limite de 0 a 10, por exemplo, 4;\n",
        "3.   Encontre os índices dos elementos maiores do que o valor limite;\n",
        "4.   Acessar os valores dos elementos maiores do que o valor limite;\n",
        "5.   Substitua os valores maiores que o limite por 0.\n",
        "\n"
      ],
      "metadata": {
        "id": "2ebMd7pYT-2g"
      }
    },
    {
      "cell_type": "code",
      "source": [
        "nums_aleatorios = np.random.uniform(low=0,high=10,size=100) #cria um array com 100 números de ponto flutuante alatórios dentro do intervalo [0,10]\n",
        "limite = 4 #definimos um limite\n",
        "\n",
        "print(nums_aleatorios)\n",
        "\n",
        "indices = [] #declaração da lista que receberá os índices dos números aleatórios maiores que o limite\n",
        "for i in range(len(nums_aleatorios)): #loop que percorrerá todo o array\n",
        "  if nums_aleatorios[i] > limite: #condição que verifica se o valor por onde está passando o loop é maior ou menor que o limite\n",
        "    indices.append(i) #adiciona o índica do número maior que o limite à lista de índices\n",
        "\n",
        "print(indices)#mostra o índice do número cado a condição seja verdadeira\n",
        "\n",
        "for elemento in indices: #loop que passa por cada um dos elementos da lista de indices\n",
        "    nums_aleatorios[elemento] = 0 #troca os números aleatórios maiores que o limite por 0\n",
        "\n",
        "print(nums_aleatorios)"
      ],
      "metadata": {
        "id": "PyL3Sd4CaBKP"
      },
      "execution_count": null,
      "outputs": []
    },
    {
      "cell_type": "markdown",
      "source": [
        "## Atividade 3\n",
        "\n",
        "Foi adicionado uma lista para representar as vendas mensais de três empresas ao longo do ano.\n",
        "\n",
        "\n",
        "1.   Transforme essa lista em Array;\n",
        "2.   Calcule o valor minimo, maximo e medio da lista;\n",
        "3.   Calcule a soma de cada mês e adicione uma coluna com esses resultados;\n",
        "4.   Calcule a média de cada empresa (e da soma) e adicione como linha final;\n",
        "5.   Remova as agregações;\n",
        "6.   Separe o array em 4 arrays de trimestres.\n",
        "7.   Faça as vendas esperadas para o ano seguinte. Espera-se que o primeiro trimestre terá um crescimento de 5%, 15% para o segundo trimestre, queda de 5% para o terceiro trimestre e crescimento de 20% para o último trimestre.\n",
        "8. Junte esses arrays em um novo array, mantendo a separação por trimestre.\n",
        "\n",
        "Desafio: Faça as vendas esperadas através da multiplicação do array de vendas trimestrais pelo array de crescimento. Transforme o array resultante para que ele tenha o mesmo shape do array original.\n",
        "\n",
        "Espera-se Split, Stack, Concatenate e Delete.\n",
        "\n"
      ],
      "metadata": {
        "id": "41XqB18mC3Og"
      }
    },
    {
      "cell_type": "code",
      "source": [
        "vendas_mensais= [\n",
        "    [10000, 15000, 20000],  # Janeiro\n",
        "    [11000, 14000, 22000],  # Fevereiro\n",
        "    [12000, 16000, 21000],  # Março\n",
        "    [10500, 15500, 21500],  # Abril\n",
        "    [11500, 14500, 22500],  # Maio\n",
        "    [12500, 16500, 20500],  # Junho\n",
        "    [13000, 17000, 19500],  # Julho\n",
        "    [13500, 17500, 18500],  # Agosto\n",
        "    [14000, 18000, 17500],  # Setembro\n",
        "    [14500, 18500, 16500],  # Outubro\n",
        "    [15000, 19000, 15500],  # Novembro\n",
        "    [15500, 19500, 14500]   # Dezembro\n",
        "]\n",
        "\n",
        "vendas_mensais = np.array(vendas_mensais)\n",
        "print(type(vendas_mensais))"
      ],
      "metadata": {
        "id": "IL59o9i9EQgw",
        "colab": {
          "base_uri": "https://localhost:8080/"
        },
        "outputId": "f9ece5b4-1ec5-44f6-d236-3a2bee989d14"
      },
      "execution_count": 32,
      "outputs": [
        {
          "output_type": "stream",
          "name": "stdout",
          "text": [
            "<class 'numpy.ndarray'>\n"
          ]
        }
      ]
    },
    {
      "cell_type": "markdown",
      "source": [
        "## Atividade 4\n",
        "\n",
        "Crie um array com o nome de todos os membros do grupo. Uilize das propriedades do Numpy para deixar todos os nomes em letras maiúsculas."
      ],
      "metadata": {
        "id": "BKXS5SVYSqug"
      }
    },
    {
      "cell_type": "code",
      "source": [],
      "metadata": {
        "id": "dOVxoUZRaEhe"
      },
      "execution_count": null,
      "outputs": []
    },
    {
      "cell_type": "markdown",
      "source": [
        "## Atividade 5\n",
        "\n",
        "Considerando manhã = 1 e tarde = 2, concatene o número do turno mais o número do grupo. Defina esse número como a seed. Crie uma sequencia de 10 números aleatorios entre 0 e 1. Calcule quantos desses são maiores que 0.5. Agora crie uma sequencia novamente. Essa sequencia é igual a primeira? Se não, crie uma sequencia \"aleatória\" novamente que tenha os mesmos números da primeira sequência. O que acontece se é repetido o código novamente?"
      ],
      "metadata": {
        "id": "3juf4wWTaEt_"
      }
    },
    {
      "cell_type": "code",
      "source": [],
      "metadata": {
        "id": "8NyhDIRAfHg-"
      },
      "execution_count": null,
      "outputs": []
    }
  ]
}