{
  "nbformat": 4,
  "nbformat_minor": 0,
  "metadata": {
    "colab": {
      "provenance": [],
      "include_colab_link": true
    },
    "kernelspec": {
      "name": "python3",
      "display_name": "Python 3"
    },
    "language_info": {
      "name": "python"
    }
  },
  "cells": [
    {
      "cell_type": "markdown",
      "metadata": {
        "id": "view-in-github",
        "colab_type": "text"
      },
      "source": [
        "<a href=\"https://colab.research.google.com/github/Carolduplex/bootcampo_FDAMANHA/blob/main/Aula_2_Atividades.ipynb\" target=\"_parent\"><img src=\"https://colab.research.google.com/assets/colab-badge.svg\" alt=\"Open In Colab\"/></a>"
      ]
    },
    {
      "cell_type": "markdown",
      "source": [
        "# Atividades NumPy\n",
        "\n",
        "NumPy é um pacote extremamente interessante e necessário de aprender pois ele é o que está por trás de diversos pacotes mais avançados (alguns que veremos) do Pyhon. Alguns desses pacotes incluem o Pandas, Seaborn, Scikit-Learn e Tensorflow.\n",
        "\n",
        "A seguir serão passadas algumas atividades simples para a fixação do conteúdo."
      ],
      "metadata": {
        "id": "6g_L-PwS_tPa"
      }
    },
    {
      "cell_type": "code",
      "source": [
        "#Rode esse código para usar o numpy, sinta-se livre para alterá-lo.\n",
        "import numpy as np"
      ],
      "metadata": {
        "id": "jaMPX9rGEApx"
      },
      "execution_count": 1,
      "outputs": []
    },
    {
      "cell_type": "markdown",
      "source": [
        "## Atividade 1\n",
        "\n",
        "Crie um Array que vá do número 2017 até 2024. Comente qual a principal diferença de um array para uma lista? Printe o tipo do array e o tipo dos elementos do array. Transforme esse array num array bidimensional.\n",
        "\n",
        "Desafio:\n",
        "Mude o tipo dos elementos array para o que ocupe menos memória possível sem alterar os elementos do array."
      ],
      "metadata": {
        "id": "5KBF94wnAb1i"
      }
    },
    {
      "cell_type": "markdown",
      "source": [
        "####Resposta: Diferença entre arrays e listas\n",
        "Listas são estruturas de dados presentes no python que podem receber um conjunto de elementos. Esses elementos podem ter qualquer um dos tipos de dados encontrados no python, incluindo outras listas, ou seja, dentro de uma lista única lista pode haver elementos tipo char, int e float.\n",
        "\n",
        "Arrays são estruturas de dados definidas na biblioteca Numpy que também recebem conjuntos de dados, assim como as listas porém o processamento númerico dos elementos de um array, em geral, é consideravelmente mais rápido."
      ],
      "metadata": {
        "id": "ZQjKuI5DDPMh"
      }
    },
    {
      "cell_type": "code",
      "execution_count": null,
      "metadata": {
        "id": "54JsgjI__n_W"
      },
      "outputs": [],
      "source": [
        "anos = np.arange(2017,2025, 1) #uso da função arange cotida na bib Numpy que cria uma sequência ordenada de números, declarada da seguinte forma numpy.arange(inicio, fim, passo)\n",
        "print(anos.shape, anos)\n",
        "print(type(anos), type(anos[1])) #aqui podemos conferir qual o tipo da variável 'anos' e o tipo dos dados dentro dela\n",
        "\n",
        "#Podemos transformar o array unidimensional 'anos' em um array bidimensional com a função numpy.reshape()\n",
        "#da seguinte forma array.reshape(n de aglomerados, quantos elementos em cada aglomerado)\n",
        "#não podemos esquecer que essas divisões devem ser compatíveis com o número total de elementos no array inicial\n",
        "anos_bidimensional = anos.reshape(2, 4)\n",
        "\n",
        "print(anos_bidimensional.ndim, anos_bidimensional)\n",
        "\n",
        "#O mesmo array porém ocupando metade do espaço de memório do primeiro\n",
        "anos_2 = np.arange(2017, 2025,1, dtype=np.int32)\n",
        "print(anos_2.shape, anos_2)\n",
        "print(type(anos_2), type(anos_2[1]))\n",
        "\n",
        "#O mesmo array porém ocupando 1/4 do espaço de memório do primeiro\n",
        "anos_3 = np.arange(2017, 2025,1, dtype=np.int16)\n",
        "print(anos_3.shape, anos_3)\n",
        "print(type(anos_3), type(anos_3[1]))"
      ]
    },
    {
      "cell_type": "markdown",
      "source": [
        "## Atividade 2\n",
        "\n",
        "1.   Crie um array de números aleatórios entre 0 e 10;\n",
        "2.   Defina um valor limite de 0 a 10, por exemplo, 4;\n",
        "3.   Encontre os índices dos elementos maiores do que o valor limite;\n",
        "4.   Acessar os valores dos elementos maiores do que o valor limite;\n",
        "5.   Substitua os valores maiores que o limite por 0.\n",
        "\n"
      ],
      "metadata": {
        "id": "2ebMd7pYT-2g"
      }
    },
    {
      "cell_type": "code",
      "source": [
        "nums_aleatorios = np.random.uniform(low=0,high=10,size=100) #cria um array com 100 números de ponto flutuante alatórios dentro do intervalo [0,10]\n",
        "limite = 4 #definimos um limite\n",
        "\n",
        "print(nums_aleatorios)\n",
        "\n",
        "indices = [] #declaração da lista que receberá os índices dos números aleatórios maiores que o limite\n",
        "for i in range(len(nums_aleatorios)): #loop que percorrerá todo o array\n",
        "  if nums_aleatorios[i] > limite: #condição que verifica se o valor por onde está passando o loop é maior ou menor que o limite\n",
        "    indices.append(i) #adiciona o índica do número maior que o limite à lista de índices\n",
        "\n",
        "print(indices)#mostra o índice do número cado a condição seja verdadeira\n",
        "\n",
        "for elemento in indices: #loop que passa por cada um dos elementos da lista de indices\n",
        "    nums_aleatorios[elemento] = 0 #troca os números aleatórios maiores que o limite por 0\n",
        "\n",
        "print(nums_aleatorios)"
      ],
      "metadata": {
        "id": "PyL3Sd4CaBKP"
      },
      "execution_count": null,
      "outputs": []
    },
    {
      "cell_type": "markdown",
      "source": [
        "## Atividade 3\n",
        "\n",
        "Foi adicionado uma lista para representar as vendas mensais de três empresas ao longo do ano.\n",
        "\n",
        "\n",
        "1.   Transforme essa lista em Array;\n",
        "2.   Calcule o valor minimo, maximo e medio da lista;\n",
        "3.   Calcule a soma de cada mês e adicione uma coluna com esses resultados;\n",
        "4.   Calcule a média de cada empresa (e da soma) e adicione como linha final;\n",
        "5.   Remova as agregações;\n",
        "6.   Separe o array em 4 arrays de trimestres.\n",
        "7.   Faça as vendas esperadas para o ano seguinte. Espera-se que o primeiro trimestre terá um crescimento de 5%, 15% para o segundo trimestre, queda de 5% para o terceiro trimestre e crescimento de 20% para o último trimestre.\n",
        "8. Junte esses arrays em um novo array, mantendo a separação por trimestre.\n",
        "\n",
        "Desafio: Faça as vendas esperadas através da multiplicação do array de vendas trimestrais pelo array de crescimento. Transforme o array resultante para que ele tenha o mesmo shape do array original.\n",
        "\n",
        "Espera-se Split, Stack, Concatenate e Delete.\n",
        "\n"
      ],
      "metadata": {
        "id": "41XqB18mC3Og"
      }
    },
    {
      "cell_type": "code",
      "source": [
        "vendas_mensais= [\n",
        "    [10000, 15000, 20000],  # Janeiro\n",
        "    [11000, 14000, 22000],  # Fevereiro\n",
        "    [12000, 16000, 21000],  # Março\n",
        "    [10500, 15500, 21500],  # Abril\n",
        "    [11500, 14500, 22500],  # Maio\n",
        "    [12500, 16500, 20500],  # Junho\n",
        "    [13000, 17000, 19500],  # Julho\n",
        "    [13500, 17500, 18500],  # Agosto\n",
        "    [14000, 18000, 17500],  # Setembro\n",
        "    [14500, 18500, 16500],  # Outubro\n",
        "    [15000, 19000, 15500],  # Novembro\n",
        "    [15500, 19500, 14500]   # Dezembro\n",
        "]\n",
        "\n",
        "vendas_mensais = np.array(vendas_mensais) #transformamos a lista em um array da numpy\n",
        "print(type(vendas_mensais)) #verifica a transformação\n",
        "\n",
        "valor_minimo = np.min(vendas_mensais) #a função min() da numpy retorna o menor valor numérico presente em um array\n",
        "valor_maximo = np.max(vendas_mensais) #numpy.max() retorna o máximo valor numérico presente em um array\n",
        "\n",
        "soma=[]\n",
        "media=[]\n",
        "\n",
        "for i in range(len(vendas_mensais)): #loop que passa por cada uma das linhas do array vendas_mensais\n",
        "    soma.append(vendas_mensais[i].sum()) #salva a soma de cada linha na lista chamada soma\n",
        "    media.append(np.mean(vendas_mensais[i])) #salva a media de cada linha na lista chamada media\n",
        "\n",
        "soma = np.array(soma) #transforma a lista em um array da numpy\n",
        "soma = soma.reshape(1,12) #aumentamos 1 dimensão no array onde salvamos as somas\n",
        "\n",
        "media = np.array(media) #transforma a lista em um array da numpy\n",
        "media = media.reshape(1,12) #aumentamos 1 dimensão no array onde salvamos as somas\n",
        "\n",
        "vendas_mensais_soma_media = np.concatenate((vendas_mensais, soma.T, media.T), axis = 1) #idiciona a soma e a media a cada uma das linhas do array vendas_mensais\n",
        "\n",
        "#Separando as vendas por trimestre e o crescimento esperado\n",
        "trimestre1 = vendas_mensais[:3].sum(axis=0)\n",
        "crescimento1=np.mean(trimestre1)*1.05\n",
        "\n",
        "trimestre2 = vendas_mensais[3:6].sum(axis=0)\n",
        "crescimento2=np.mean(trimestre2)*1.15\n",
        "\n",
        "trimestre3 = vendas_mensais[6:9].sum(axis=0)\n",
        "crescimento3=np.mean(trimestre3)*0.95\n",
        "\n",
        "trimestre4 = vendas_mensais[9:].sum(axis=0)\n",
        "crescimento4=np.mean(trimestre4)*1.20\n",
        "\n",
        "vendas_trimestrais = np.array([trimestre1, trimestre2, trimestre3, trimestre4])\n",
        "\n"
      ],
      "metadata": {
        "id": "IL59o9i9EQgw",
        "colab": {
          "base_uri": "https://localhost:8080/"
        },
        "outputId": "6aa7f54f-1737-4dda-aab0-2b62affaa523"
      },
      "execution_count": 21,
      "outputs": [
        {
          "output_type": "stream",
          "name": "stdout",
          "text": [
            "<class 'numpy.ndarray'>\n"
          ]
        }
      ]
    },
    {
      "cell_type": "markdown",
      "source": [
        "## Atividade 4\n",
        "\n",
        "Crie um array com o nome de todos os membros do grupo. Uilize das propriedades do Numpy para deixar todos os nomes em letras maiúsculas."
      ],
      "metadata": {
        "id": "BKXS5SVYSqug"
      }
    },
    {
      "cell_type": "code",
      "source": [
        "nomes=np.array(['Ana', 'Bruno', 'Elisandra','Leo', 'Nicole'])\n",
        "\n",
        "NOMES=[]\n",
        "\n",
        "for cada_nomes in nomes:\n",
        "  NOMES.append(cada_nomes.upper())\n",
        "\n",
        "NOMES=np.array(NOMES)"
      ],
      "metadata": {
        "id": "dOVxoUZRaEhe"
      },
      "execution_count": 27,
      "outputs": []
    },
    {
      "cell_type": "markdown",
      "source": [
        "## Atividade 5\n",
        "\n",
        "Considerando manhã = 1 e tarde = 2, concatene o número do turno mais o número do grupo. Defina esse número como a seed. Crie uma sequencia de 10 números aleatorios entre 0 e 1. Calcule quantos desses são maiores que 0.5. Agora crie uma sequencia novamente. Essa sequencia é igual a primeira? Se não, crie uma sequencia \"aleatória\" novamente que tenha os mesmos números da primeira sequência. O que acontece se é repetido o código novamente?"
      ],
      "metadata": {
        "id": "3juf4wWTaEt_"
      }
    },
    {
      "cell_type": "code",
      "source": [
        "tarde = 2\n",
        "manha = 1\n",
        "\n",
        "grupo = 1\n",
        "\n",
        "np.random.seed(int(str(tarde) + str(grupo)))\n",
        "\n",
        "nums_aleatorios2 = np.random.uniform(low=0,high=1,size=10)\n",
        "maiores=0\n",
        "for i in range(len(nums_aleatorios2)):\n",
        "  if nums_aleatorios2[i]>0.5:\n",
        "    maiores=maiores+1\n",
        "\n",
        "np.random.seed(int(str(tarde) + str(grupo)))\n",
        "nums_aleatorios3 = np.random.uniform(low=0,high=1,size=10)\n",
        "\n",
        "if np.array_equal(nums_aleatorios2, nums_aleatorios3): ##compara se os números gerados são iguais e retorna o valor verdadeiro ou falso\n",
        "  print('Sim, são os mesmos!') ##se sim então a mensagem que aparecerá na tela é a de que são iguais\n",
        "else:\n",
        "  print('Não são iguais!')"
      ],
      "metadata": {
        "id": "8NyhDIRAfHg-",
        "colab": {
          "base_uri": "https://localhost:8080/"
        },
        "outputId": "f72af26b-29ba-423c-f14b-cbe4db2ed92b"
      },
      "execution_count": 37,
      "outputs": [
        {
          "output_type": "stream",
          "name": "stdout",
          "text": [
            "Sim, são os mesmos!\n"
          ]
        }
      ]
    }
  ]
}