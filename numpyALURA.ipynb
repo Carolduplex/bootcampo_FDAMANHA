{
  "nbformat": 4,
  "nbformat_minor": 0,
  "metadata": {
    "colab": {
      "provenance": [],
      "authorship_tag": "ABX9TyM9AdP1azXFFRi9xRV9xlYe",
      "include_colab_link": true
    },
    "kernelspec": {
      "name": "python3",
      "display_name": "Python 3"
    },
    "language_info": {
      "name": "python"
    }
  },
  "cells": [
    {
      "cell_type": "markdown",
      "metadata": {
        "id": "view-in-github",
        "colab_type": "text"
      },
      "source": [
        "<a href=\"https://colab.research.google.com/github/Carolduplex/bootcampo_FDAMANHA/blob/main/numpyALURA.ipynb\" target=\"_parent\"><img src=\"https://colab.research.google.com/assets/colab-badge.svg\" alt=\"Open In Colab\"/></a>"
      ]
    },
    {
      "cell_type": "markdown",
      "source": [
        "#A biblioteca Numpy\n",
        "\n",
        "Numpy é umas biblioteca do python que contém funções de processamento numérico e de arquivos. Ela é uma das bibliotemas mais utilizadas em ciências de dados por conter uma gama muito grande de opções de processamento de dados."
      ],
      "metadata": {
        "id": "toVrQPhpnZdi"
      }
    },
    {
      "cell_type": "code",
      "execution_count": 1,
      "metadata": {
        "id": "2UDP0G6niNwl"
      },
      "outputs": [],
      "source": [
        "import numpy as np"
      ]
    },
    {
      "cell_type": "markdown",
      "source": [
        "##A função loadtxt()\n",
        "\n",
        "É uma função presente no numpy que nos permite abrir um arquivo e converte seu contaúdo para um *array*"
      ],
      "metadata": {
        "id": "cj1fEzMMoLeS"
      }
    },
    {
      "cell_type": "code",
      "source": [
        "np.loadtxt('apples_ts.csv', delimiter=',', usecols=np.arange(1, 88, 1))"
      ],
      "metadata": {
        "id": "mSha7IuximnE"
      },
      "execution_count": null,
      "outputs": []
    },
    {
      "cell_type": "markdown",
      "source": [
        "##URL e RAWs\n",
        "\n",
        "Fazer o upload de um arquivo para o notebook toda vez que criarmos um novo pode ser um problema, para isso utilizamos a variável **URL** do pyton, que recebe o caminho de um arquivo online.\n",
        "\n",
        "No GitHub temos a possibilidade de criar uma versão \"crua\" de um arquivo de dados, com a opção *RAW*.\n",
        "\n",
        "Abaixo há um exemplo de como é feito."
      ],
      "metadata": {
        "id": "4SXeczKZmN4j"
      }
    },
    {
      "cell_type": "code",
      "source": [
        "url = 'https://raw.githubusercontent.com/Carolduplex/bootcampo_FDAMANHA/main/numpy-dados/apples_ts.csv'\n",
        "dado = np.loadtxt(url, delimiter=',', usecols=np.arange(1, 88, 1))\n"
      ],
      "metadata": {
        "id": "_aeaCY7ql8Oz"
      },
      "execution_count": 2,
      "outputs": []
    },
    {
      "cell_type": "markdown",
      "source": [
        "##Comparando a eficiência entre listas e arrays\n",
        "\n",
        "Utilizando muito os arrays da Numpy por possuiem um processamento número, em geral, mais rápido que as listas do python. Podemos ver essa diferente com um pequeno teste"
      ],
      "metadata": {
        "id": "8DsHyu9-p5pp"
      }
    },
    {
      "cell_type": "code",
      "source": [
        "import time\n",
        "\n",
        "# cria uma lista com 1000000 elementos\n",
        "lista = list(range(1000000))\n",
        "\n",
        "# transforma a lista em um array Numpy\n",
        "array = np.array(lista)\n",
        "\n",
        "# começa a cronometrar o tempo para a operação com a lista\n",
        "start_time = time.time()\n",
        "\n",
        "# realiza a operação de elevar ao quadrado cada elemento da lista\n",
        "lista_quadrado = [i**2 for i in lista]\n",
        "\n",
        "# para o cronômetro\n",
        "list_time = time.time() - start_time\n",
        "\n",
        "# começa a cronometrar o tempo para a operação com o array\n",
        "start_time = time.time()\n",
        "\n",
        "# realiza a operação de elevar ao quadrado cada elemento do array\n",
        "array_quadrado = array**2\n",
        "\n",
        "# para o cronômetro\n",
        "array_time = time.time() - start_time\n",
        "\n",
        "print(\"Tempo da operação com a lista: \", list_time)\n",
        "print(\"Tempo da operação com o array: \", array_time)\n"
      ],
      "metadata": {
        "id": "-vgnpIuyqNt5"
      },
      "execution_count": null,
      "outputs": []
    },
    {
      "cell_type": "markdown",
      "source": [
        "O tempo para o processamento de um array com a mesma quantidade de elementos que uma lista é consideravelmente menor."
      ],
      "metadata": {
        "id": "gECkqO_7qSPw"
      }
    },
    {
      "cell_type": "markdown",
      "source": [
        "##Funções de propriedade\n",
        "Exite algumas funções que nos permite entender o formato de um array(dimensionalidade, número de elementos, etc).\n",
        "\n",
        "###ndim\n",
        "A função ndim retorna de que maneira os dados estão sendo variados em um array, ou seja, seu número de dimensões\n",
        "\n",
        "###size\n",
        "Retorna quantos elementos compões o array em questão\n",
        "\n",
        "##shape\n",
        "Nos diz, dentro de como os dados são variádos, quantas são essas formas (número de linhas e colunas no caso de um array 2D)"
      ],
      "metadata": {
        "id": "0Z8IN__2rhiJ"
      }
    },
    {
      "cell_type": "code",
      "source": [
        "print(dado.ndim,\n",
        "dado.size,\n",
        "dado.shape)"
      ],
      "metadata": {
        "id": "9GYSQoFsqkio"
      },
      "execution_count": null,
      "outputs": []
    },
    {
      "cell_type": "markdown",
      "source": [
        "##transposta T\n",
        "Podemos ainda inverter linhas e colunas de um array, utilizando a função transposta *T*"
      ],
      "metadata": {
        "id": "2oZIGjqGs25R"
      }
    },
    {
      "cell_type": "code",
      "source": [
        "dado.T"
      ],
      "metadata": {
        "id": "ek8uGcaAqoQ4"
      },
      "execution_count": null,
      "outputs": []
    },
    {
      "cell_type": "code",
      "source": [
        "dados_transposto = dado.T"
      ],
      "metadata": {
        "id": "jG82fuWvs-hx"
      },
      "execution_count": 3,
      "outputs": []
    },
    {
      "cell_type": "markdown",
      "source": [
        "##Separando os dados\n",
        "\n",
        "Podemos coletar colunas espesíficas da nossa coleção de dados, para isso usamos o :"
      ],
      "metadata": {
        "id": "0gSlNKkntCO9"
      }
    },
    {
      "cell_type": "code",
      "source": [
        "datas = dados_transposto[:,0]\n",
        "precos = dados_transposto[:,1:6]"
      ],
      "metadata": {
        "id": "ghwTJns5tWWH"
      },
      "execution_count": 4,
      "outputs": []
    },
    {
      "cell_type": "markdown",
      "source": [
        "#A biblioteca Metplotlib\n",
        "\n",
        "Assim como a numpy a biblioteca metplotlib é um conjuntop de ferramentas que nos permite ir além daquilo oferecido pelas funções imbuídas no python. Matplotlib e Numpy possuem compatibilidade, ou seja, podemos usar as estruturas definidas na numpy nas funções da Metplotlib\n",
        "\n",
        "\n",
        "##Criando visuais com dados\n",
        "\n",
        "A subbib *pyplot()* presente na bib metplotlib nos permite criar gráficos a partir de conjuntos de dados.\n",
        "\n",
        "###Função .plot()\n",
        "Podemos chamar a função *.plot()* apenas fornecendo a coordenada do ponto (x,y) ou um conjunto de coordenadas(listaX, listaY) / coordenadas(arrayX, arrayY) sem especificar qualquer outro atributo.\n",
        "\n",
        "Nessas condições obteremos um  **gráfico de linhas**\n"
      ],
      "metadata": {
        "id": "VMBl-fnrt1w0"
      }
    },
    {
      "cell_type": "code",
      "source": [
        "from matplotlib import pyplot as graficar #é sempre bom lembrar que o import nos permite extrair funcoes de bibliotecas ou toda a biblioteca e dar a ela o nome que acharmos mais conviniente\n",
        "graficar.plot(datas,precos[:,0])"
      ],
      "metadata": {
        "id": "0B_GBxdQux7t"
      },
      "execution_count": null,
      "outputs": []
    },
    {
      "cell_type": "markdown",
      "source": [
        "Podemos ver que o gráfico formado não nos diz muitra coisa, isso porquê nosso conjunto de dados não está ordenado de forma adequada."
      ],
      "metadata": {
        "id": "OO2K6N_HwhmM"
      }
    },
    {
      "cell_type": "code",
      "source": [
        "datas = np.arange(1,88) #tamos 88 datas, faz sentido que elas estejam ordenadas para que seja feita uma progreção ao longo dos dias\n",
        "graficar.plot(datas,precos[:,0])"
      ],
      "metadata": {
        "id": "mwewdo9WweON"
      },
      "execution_count": null,
      "outputs": []
    },
    {
      "cell_type": "markdown",
      "source": [
        "O gráfico retornado agora é outro. O eixo y ainda possui números de 80 a 130, mas o eixo x vai de 0 a 80. Além do mais, temos uma só linha que faz curvas. É possível identificar, inclusive, que o preço está crescendo no decorrer do tempo.\n",
        "\n",
        "###Separando por cidade"
      ],
      "metadata": {
        "id": "7xAFLBtqxKGz"
      }
    },
    {
      "cell_type": "code",
      "source": [
        "Moscow = precos[:,0]\n",
        "Kaliningrad = precos[:,1]\n",
        "Petersburg = precos[:,2]\n",
        "Krasnodar = precos[:,3]\n",
        "Ekaterinburg = precos[:,4]"
      ],
      "metadata": {
        "id": "UB8Ho558xbwz"
      },
      "execution_count": 5,
      "outputs": []
    },
    {
      "cell_type": "markdown",
      "source": [
        "Analisando o gráfico, percebemos que há uma variação no decorrer do tempo. Então podemos nos questionar: será que tem a ver com a época do ano?\n",
        "\n",
        "##Separando por anos\n",
        "\n",
        "Para continuar, vamos separá-lo em partes de 1 ano. Esta separação é feita semelhantemente à de um array bidimensional:"
      ],
      "metadata": {
        "id": "prNAv1D3ywzR"
      }
    },
    {
      "cell_type": "code",
      "source": [
        "Moscow_ano1 = Moscow[0:12]\n",
        "Moscow_ano2 = Moscow[12:24]\n",
        "Moscow_ano3 = Moscow[24:36]\n",
        "Moscow_ano4 = Moscow[36:48]"
      ],
      "metadata": {
        "id": "tZNlYi2PydhB"
      },
      "execution_count": 6,
      "outputs": []
    },
    {
      "cell_type": "code",
      "source": [
        "graficar.plot(np.arange(1,13,1), Moscow_ano1) #aqui o arange monta um vetor que com números de 1 a 12 espaçados por 1 unidade"
      ],
      "metadata": {
        "id": "4MHU8QnJzGva"
      },
      "execution_count": null,
      "outputs": []
    },
    {
      "cell_type": "code",
      "source": [
        "graficar.plot(np.arange(1,13,1), Moscow_ano1)\n",
        "graficar.plot(np.arange(1,13,1), Moscow_ano2)\n",
        "graficar.plot(np.arange(1,13,1), Moscow_ano3)\n",
        "graficar.plot(np.arange(1,13,1), Moscow_ano4)"
      ],
      "metadata": {
        "id": "LKwzqZMBzZO7"
      },
      "execution_count": null,
      "outputs": []
    },
    {
      "cell_type": "markdown",
      "source": [
        "##Função legend()\n",
        "\n",
        "Podemos utilizar a função *legend()* para nomear um conjunto de dados representados no gráfico gerado pelo pyplot"
      ],
      "metadata": {
        "id": "9ZTaZCu2ziMS"
      }
    },
    {
      "cell_type": "code",
      "source": [
        "graficar.plot(np.arange(1,13,1), Moscow_ano1)\n",
        "graficar.plot(np.arange(1,13,1), Moscow_ano2)\n",
        "graficar.plot(np.arange(1,13,1), Moscow_ano3)\n",
        "graficar.plot(np.arange(1,13,1), Moscow_ano4)\n",
        "graficar.legend(['ano1', 'ano2', 'ano3', 'ano4'])"
      ],
      "metadata": {
        "id": "4gqzaPgHz0oh"
      },
      "execution_count": null,
      "outputs": []
    },
    {
      "cell_type": "markdown",
      "source": [
        "Agora sabemos o que cada uma das linhas representa no gráfico."
      ],
      "metadata": {
        "id": "9MSs8jbrz715"
      }
    },
    {
      "cell_type": "markdown",
      "source": [
        "##Comparando arrays: iguais ou próximos\n",
        "\n",
        "Se quisermos comparar o preço de 2 anos diferentes, podemos tentar verificar se algum desses intervalos são iguais.\n",
        "\n",
        "Para isso, temos a função array_equal(), que verifica se 2 arrays são iguais e nos retorna um valor verdade sobre a comparação."
      ],
      "metadata": {
        "id": "S2SN9pvm0HvZ"
      }
    },
    {
      "cell_type": "code",
      "source": [
        "np.array_equal(Moscow_ano3, Moscow_ano4)"
      ],
      "metadata": {
        "id": "HLzcfxMN0MOq"
      },
      "execution_count": null,
      "outputs": []
    },
    {
      "cell_type": "markdown",
      "source": [
        "Embora sejam diferentes, essas diferença não é tão grande, já que conseguimos perceber que não houve uma inflação de ano para ano, por exemplo.\n",
        "\n",
        "Para verificar se há uma grande diferença entre os valores de um ano para outro, usamos a função allclose(), que verifica se os arrays são próximos dentro de determinado intervalo."
      ],
      "metadata": {
        "id": "TrRajers0cmR"
      }
    },
    {
      "cell_type": "code",
      "source": [
        "np.allclose(Moscow_ano3, Moscow_ano4,0.01)"
      ],
      "metadata": {
        "colab": {
          "base_uri": "https://localhost:8080/"
        },
        "id": "tdCmh6IO0fJa",
        "outputId": "93519b26-ac2c-45a2-85f3-14750ec2c562"
      },
      "execution_count": null,
      "outputs": [
        {
          "output_type": "execute_result",
          "data": {
            "text/plain": [
              "False"
            ]
          },
          "metadata": {},
          "execution_count": 15
        }
      ]
    },
    {
      "cell_type": "code",
      "source": [
        "np.allclose(Moscow_ano3, Moscow_ano4,10)"
      ],
      "metadata": {
        "colab": {
          "base_uri": "https://localhost:8080/"
        },
        "id": "0LXHt1sh0mXz",
        "outputId": "e8f624aa-20b9-4c04-8f54-d01cd2ee855d"
      },
      "execution_count": null,
      "outputs": [
        {
          "output_type": "execute_result",
          "data": {
            "text/plain": [
              "True"
            ]
          },
          "metadata": {},
          "execution_count": 16
        }
      ]
    },
    {
      "cell_type": "code",
      "source": [
        "graficar.plot(datas, Kaliningrad)"
      ],
      "metadata": {
        "id": "h3g5nPir1qCJ"
      },
      "execution_count": null,
      "outputs": []
    },
    {
      "cell_type": "markdown",
      "source": [
        "##Verificando a quantidade de valores NaN\n",
        "\n",
        "Antes de tratar esse dado, vamos verificar quantas ocorrências de NaN temos neste array. Para isso, temos a função isnan(), que verifica valores não numéricos e nos retorna True ou False."
      ],
      "metadata": {
        "id": "x7-VaCUC17F4"
      }
    },
    {
      "cell_type": "code",
      "source": [
        "np.isnan(Kaliningrad)"
      ],
      "metadata": {
        "id": "eqRWumEI1_jh"
      },
      "execution_count": null,
      "outputs": []
    },
    {
      "cell_type": "markdown",
      "source": [
        "Note que, para cada valor do array, temos um True ou False indicando se o dado se trata ou não de um número. Entre as ocorrências, somente um é considerado True, ou seja, um valor não numérico.\n",
        "\n",
        "Porém, esta estrutura não é viável quando temos um grande conjunto de valores, já que seria difícil identificar as ocorrências de True.\n",
        "\n",
        "Tendo isso em vista, podemos utilizar a função sum() envolvendo o comando np.isnan(). Desta forma, os valores do tipo False serão interpretados como 0*, enquanto os do tipo *True, como 1, assim, ao somarmos todos eles, nos será retornado o número de ocorrências correspondentes à NaN:"
      ],
      "metadata": {
        "id": "JnLkKzJX2TRZ"
      }
    },
    {
      "cell_type": "code",
      "source": [
        "sum(np.isnan(Kaliningrad))"
      ],
      "metadata": {
        "colab": {
          "base_uri": "https://localhost:8080/"
        },
        "id": "VsvWUvXA2UD4",
        "outputId": "c4006e4f-2822-4b1b-bde7-04fd3f6a24f2"
      },
      "execution_count": null,
      "outputs": [
        {
          "output_type": "execute_result",
          "data": {
            "text/plain": [
              "1"
            ]
          },
          "metadata": {},
          "execution_count": 19
        }
      ]
    },
    {
      "cell_type": "markdown",
      "source": [
        "##Lidando com valores NaNs\n",
        "\n",
        "Uma forma de lidar com esse tipo de dado é interpolando o valor. No caso, poderíamos calcular a média entre o valor anterior e o posterior à NaN."
      ],
      "metadata": {
        "id": "6qjxpyS221O4"
      }
    },
    {
      "cell_type": "code",
      "source": [
        "(Kaliningrad[3]+Kaliningrad[5])/2"
      ],
      "metadata": {
        "id": "H9YHF247250Z"
      },
      "execution_count": null,
      "outputs": []
    },
    {
      "cell_type": "markdown",
      "source": [
        "Outra opção para calcular a média, seria a função mean(), do NumPy. A aplicamos da seguinte forma:"
      ],
      "metadata": {
        "id": "ndgWPoa-2_Gr"
      }
    },
    {
      "cell_type": "code",
      "source": [
        "np.mean([Kaliningrad[3],Kaliningrad[5]])"
      ],
      "metadata": {
        "id": "FPO9Za663Bdp",
        "colab": {
          "base_uri": "https://localhost:8080/"
        },
        "outputId": "d594e637-0e4a-4e2b-afb5-8baac7a88e31"
      },
      "execution_count": 7,
      "outputs": [
        {
          "output_type": "execute_result",
          "data": {
            "text/plain": [
              "49.17"
            ]
          },
          "metadata": {},
          "execution_count": 7
        }
      ]
    },
    {
      "cell_type": "markdown",
      "source": [
        "Agora, podemos substituir NaN por este valor. Para isso, basta passarmos o comando anterior para o array na posição de NaN:"
      ],
      "metadata": {
        "id": "z185svTP3INC"
      }
    },
    {
      "cell_type": "code",
      "source": [
        "Kaliningrad[4] = np.mean([Kaliningrad[3],Kaliningrad[5]])"
      ],
      "metadata": {
        "id": "UjX1ZTle3JC6"
      },
      "execution_count": 8,
      "outputs": []
    },
    {
      "cell_type": "markdown",
      "source": [
        "\n"
      ],
      "metadata": {
        "id": "qRF8zBCuAx-h"
      }
    },
    {
      "cell_type": "code",
      "source": [
        "graficar.plot(datas,Moscow)"
      ],
      "metadata": {
        "id": "P4GnC3wxAyH5"
      },
      "execution_count": null,
      "outputs": []
    },
    {
      "cell_type": "markdown",
      "source": [
        "Equação da reta\n",
        "\n",
        "y= ax + b\n",
        "\n"
      ],
      "metadata": {
        "id": "ei0sospgBesy"
      }
    },
    {
      "cell_type": "code",
      "source": [
        "x = datas\n",
        "y = 2*x + 80\n",
        "\n",
        "graficar.plot(datas,Moscow)\n",
        "graficar.plot(x,y)"
      ],
      "metadata": {
        "id": "2Md9hRCzBcgS"
      },
      "execution_count": null,
      "outputs": []
    },
    {
      "cell_type": "markdown",
      "source": [
        "##Função linalg.norm da bib Numpy\n",
        "\n",
        "Podemos ver o desvio médio entre duas retas utilizando a função linalg.norm(), ela nos dá uma boa dica de ajustes lineares.\n"
      ],
      "metadata": {
        "id": "qU-UaOOtCafB"
      }
    },
    {
      "cell_type": "code",
      "source": [
        "np.linalg.norm(Moscow-y)"
      ],
      "metadata": {
        "colab": {
          "base_uri": "https://localhost:8080/"
        },
        "id": "VZJOvOFaDAeZ",
        "outputId": "b7166b8f-9a10-44a2-cbd9-4988a020401a"
      },
      "execution_count": 16,
      "outputs": [
        {
          "output_type": "execute_result",
          "data": {
            "text/plain": [
              "749.2329171225728"
            ]
          },
          "metadata": {},
          "execution_count": 16
        }
      ]
    },
    {
      "cell_type": "code",
      "source": [
        "x = datas\n",
        "y = 0.52*x + 80\n",
        "\n",
        "np.linalg.norm(Moscow-y)"
      ],
      "metadata": {
        "colab": {
          "base_uri": "https://localhost:8080/"
        },
        "id": "OHy0XWRbDI4Y",
        "outputId": "8f8aedf0-2b00-4234-ba98-4a13899612c3"
      },
      "execution_count": 17,
      "outputs": [
        {
          "output_type": "execute_result",
          "data": {
            "text/plain": [
              "110.48504740461489"
            ]
          },
          "metadata": {},
          "execution_count": 17
        }
      ]
    },
    {
      "cell_type": "markdown",
      "source": [
        "##Função copy() do Numpy\n",
        "\n",
        "Para criar um array desvinculado do array original existe uma função da numpy, a np.copy()\n",
        "\n",
        "Assim, mesmo que alterarmos o array preco_imoveis, isso não afetará o array preco_imoveis_sao_paulo.\n",
        "\n",
        "Isso ocorre porque, quando usamos o sinal de igual para copiar o array, temos um novo array que aponta para os mesmos locais na memória. Já quando usamos o np.copy(), os locais na memória são diferentes."
      ],
      "metadata": {
        "id": "sA5TQWbJDwPA"
      }
    },
    {
      "cell_type": "code",
      "source": [
        "so_Moscow = np.copy(Moscow)\n",
        "so_Moscow"
      ],
      "metadata": {
        "id": "HwE6RWvhERhI"
      },
      "execution_count": null,
      "outputs": []
    },
    {
      "cell_type": "markdown",
      "source": [
        "##Calculando o coeficiente angular (a)\n",
        "\n",
        "Vamos implementar este cálculo passo a passo.\n",
        "\n",
        "Inicialmente, vamos defiir X e Y, utilizando letras maiúsculas, e n.\n",
        "\n",
        "Sabendo que n corresponde ao número de elementos, podemos utilizar a função .size()."
      ],
      "metadata": {
        "id": "T3mGw4byEeQG"
      }
    },
    {
      "cell_type": "code",
      "source": [
        "Y = Moscow\n",
        "X = datas\n",
        "n = np.size(Moscow)"
      ],
      "metadata": {
        "id": "vzS1piYjEiYZ"
      },
      "execution_count": 21,
      "outputs": []
    },
    {
      "cell_type": "markdown",
      "source": [
        "Tendo as variáveis definidas, basta implementarmos.\n",
        "\n",
        "Vamos ao cálculo do coeficiente angular."
      ],
      "metadata": {
        "id": "LOp5nJM5E1f_"
      }
    },
    {
      "cell_type": "code",
      "source": [
        "a = (n*np.sum(X*Y) - np.sum(X)*np.sum(Y))/(n*np.sum(X**2) - np.sum(X)**2)"
      ],
      "metadata": {
        "id": "dLUo8Ns_FBl-"
      },
      "execution_count": 22,
      "outputs": []
    },
    {
      "cell_type": "markdown",
      "source": [
        "##Calculando o coeficiente linear (b)\n",
        "Para calcular o coeficiente linear, usamos a seguinte fórmula:\n",
        "\n",
        "**Equação b = Media(Yi) - â*Media(Xi).**\n",
        "\n",
        "O coeficiente linear, representado por \"b\", é calculado pela média de Y o coeficiente angular \"â\" multiplicado pela média de X.\n",
        "Nosso cálculo ficará assim:"
      ],
      "metadata": {
        "id": "JjKprUrqFR9-"
      }
    },
    {
      "cell_type": "code",
      "source": [
        "b = np.mean(Y) - a*np.mean(X)\n",
        "\n",
        "y = a*X+b\n",
        "\n",
        "np.linalg.norm(Moscow-y)"
      ],
      "metadata": {
        "colab": {
          "base_uri": "https://localhost:8080/"
        },
        "id": "830vSuMFFb7H",
        "outputId": "5fc82306-f971-487c-8e7c-30a38bb36916"
      },
      "execution_count": 25,
      "outputs": [
        {
          "output_type": "execute_result",
          "data": {
            "text/plain": [
              "101.7969539992751"
            ]
          },
          "metadata": {},
          "execution_count": 25
        }
      ]
    },
    {
      "cell_type": "code",
      "source": [
        "graficar.plot(datas,Moscow)\n",
        "graficar.plot(x,y)\n",
        "\n",
        "graficar.plot(41.5,41.5*a+b,'*r') #mostrará o ponto correspondente ao mês 41.5 e o indicará com um asterisco"
      ],
      "metadata": {
        "id": "AkQrDNSkGbGK"
      },
      "execution_count": null,
      "outputs": []
    },
    {
      "cell_type": "markdown",
      "source": [
        "#Gerando números aleatórios com a NumPy\n",
        "\n",
        "Inicialmente, veremos como a NumPy gera números aleatórios.\n",
        "\n",
        "Chamaremos a função random.randint(), que gera um intervalo de números inteiros aleatórios. Para ela, passamos low=40, que é o menor número possível dentro do intervalo, high=100, que é o maior, e size=100, que é o número de valores que devem ser gerados:"
      ],
      "metadata": {
        "id": "NYXT8bBGHYSP"
      }
    },
    {
      "cell_type": "code",
      "source": [
        "np.random.randint(low=40,high=100,size=100)"
      ],
      "metadata": {
        "id": "68atcjl7Hi1H"
      },
      "execution_count": null,
      "outputs": []
    },
    {
      "cell_type": "markdown",
      "source": [
        "Nosso coeficiente angular é um número com vírgulas, então precisamos gerar um número do tipo float. Para isso, usamos a função random.uniform(), que gera valores aleatórios do tipo float.\n",
        "\n",
        "Esta função também recebe os parâmetros low, high e size:"
      ],
      "metadata": {
        "id": "lqh5w2ohHxj_"
      }
    },
    {
      "cell_type": "code",
      "source": [
        "np.random.uniform(low=0.10,high=0.90,size=100)\n",
        "\n",
        "coef_angulares = np.random.uniform(low=0.10,high=0.90,size=100)"
      ],
      "metadata": {
        "id": "KIdc_3BKHygH"
      },
      "execution_count": 29,
      "outputs": []
    },
    {
      "cell_type": "markdown",
      "source": [
        "Com os coeficientes angulares armazenados na variável, calcularemos o valor da norma para cada um deles. Ou seja, testaremos cada um.\n",
        "\n",
        "Para isso, usaremos um loop for que deve percorrer por esses coeficientes e verificar a diferença entre o array de Moscow e o array calculado com o coeficiente de teste. Para essa verificação, usaremos linalg.norm(), que deve calcular o valor de y para cada iteração:"
      ],
      "metadata": {
        "id": "GqztTCioICEI"
      }
    },
    {
      "cell_type": "code",
      "source": [
        "norma2 = np.array([]) #salvaremos o valor da norma (diferença entre a reta do coeficiente e a reta a ser regressa) de cada número gerado aqui\n",
        "for i in range(100):\n",
        "    norma2 = np.append(norma2, np.linalg.norm(Moscow-(coef_angulares[i]*X+b)))\n",
        "\n",
        "'''Ao vermos o array norma percebemos que o menor valor é aquele que giora em torno de 102 na posição 1, sendo assim o coeficiente que melhor condiz\n",
        "    com o que queremos deve estar na posição 1 da lista coef_angulares'''"
      ],
      "metadata": {
        "colab": {
          "base_uri": "https://localhost:8080/",
          "height": 53
        },
        "id": "LxIKVLrJIFVn",
        "outputId": "a9691761-3da0-485c-d812-9b9ef6f874f9"
      },
      "execution_count": 30,
      "outputs": [
        {
          "output_type": "execute_result",
          "data": {
            "text/plain": [
              "'Ao vermos o array norma percebemos que o menor valor é aquele que giora em torno de 102 na posição 1, sendo assim o coeficiente que melhor condiz\\n    com o que queremos deve estar na posição 1 da lista coef_angulares'"
            ],
            "application/vnd.google.colaboratory.intrinsic+json": {
              "type": "string"
            }
          },
          "metadata": {},
          "execution_count": 30
        }
      ]
    }
  ]
}