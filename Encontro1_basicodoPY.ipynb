{
  "nbformat": 4,
  "nbformat_minor": 0,
  "metadata": {
    "colab": {
      "provenance": [],
      "authorship_tag": "ABX9TyMMExqe9Jk+W4N7Kys/XaTj",
      "include_colab_link": true
    },
    "kernelspec": {
      "name": "python3",
      "display_name": "Python 3"
    },
    "language_info": {
      "name": "python"
    }
  },
  "cells": [
    {
      "cell_type": "markdown",
      "metadata": {
        "id": "view-in-github",
        "colab_type": "text"
      },
      "source": [
        "<a href=\"https://colab.research.google.com/github/Carolduplex/bootcampo_FDAMANHA/blob/main/Encontro1_basicodoPY.ipynb\" target=\"_parent\"><img src=\"https://colab.research.google.com/assets/colab-badge.svg\" alt=\"Open In Colab\"/></a>"
      ]
    },
    {
      "cell_type": "markdown",
      "source": [
        "#PRIMEIRO BLOCO DE CODIGO\n",
        "\n",
        "\n",
        "No bloco de codigo abaixo ha exemplos da utilizacao de diferentes operadores matematicos e tambem a definicao de funcoes que podem ser reutiizadas ao longo do programa"
      ],
      "metadata": {
        "id": "pVItnqoHSTC0"
      }
    },
    {
      "cell_type": "code",
      "execution_count": null,
      "metadata": {
        "id": "mSxuyr1-Kif0"
      },
      "outputs": [],
      "source": [
        "#somar\n",
        "3+1\n",
        "#subtracao\n",
        "1-3\n",
        "#para mostrar o que fiz\n",
        "print(3-1)\n",
        "print(1+3)\n",
        "\n",
        "#multiplicar\n",
        "print(3*1)\n",
        "\n",
        "#potencia\n",
        "print(1**3)\n",
        "\n",
        "#resto da divisao, operador modulo\n",
        "print(3%1)\n",
        "\n",
        "#calculando o juros composto\n",
        "pv = 130\n",
        "mes = input(\"E quantos meses voce quer pagar? \")\n",
        "taxa_de_jeros = input(\"Qual a taxa de juros ao mês(em decimal)? \")\n",
        "valor_futuro = pv*((1+taxa_de_juros)**mes)\n",
        "\n",
        "#definindo uma funcao baseada no calculo acima\n",
        "\n",
        "def valor_futuro(pv, taxa_de_jurus, mes):\n",
        "  return pv*((1+taxa_de_juros)**mes)\n",
        "\n",
        "pv = imput(\"Qual o valor o emprestimo? \")\n",
        "mes = input(\"E quantos meses voce quer pagar? \")\n",
        "taxa_de_jeros = input(\"Qual a taxa de juros ao mês(em decimal)? \")\n",
        "\n",
        "print(valor_futuro(pv, taxa_de_juros, mes))"
      ]
    },
    {
      "cell_type": "markdown",
      "source": [
        "#SEGUNDO BLOCO DE CODIGO\n",
        "\n",
        "No bloco abaixo ha um exemlo de como calcular o IMC e reforcar o uso dos operadores matematicos alem da funca *input()*"
      ],
      "metadata": {
        "id": "xHUCUdcHTA0g"
      }
    },
    {
      "cell_type": "code",
      "source": [
        "#calculando o IMC\n",
        "peso = int(input(\"Qual seu peso?\" ))\n",
        "altura = float(input(\"Qual sua altura?\" ))\n",
        "\n",
        "IMC = peso/((altura**2))\n",
        "print(IMC)"
      ],
      "metadata": {
        "colab": {
          "base_uri": "https://localhost:8080/"
        },
        "id": "ARJhilxHP4IC",
        "outputId": "7cf2721a-730f-4d43-d0df-d5611b61153e"
      },
      "execution_count": 2,
      "outputs": [
        {
          "output_type": "stream",
          "name": "stdout",
          "text": [
            "Qual seu peso?69\n",
            "Qual sua altura?1.76\n",
            "22.275309917355372\n"
          ]
        }
      ]
    },
    {
      "cell_type": "code",
      "source": [
        "#Trabalhando com char\n",
        "nome  = \"Ana\"\n",
        "\n",
        "#usando format\n",
        "\n",
        "texto = \"Meu nome e {}\".format(nome)\n",
        "print(texto)"
      ],
      "metadata": {
        "id": "E-5lOmyUSQPz"
      },
      "execution_count": null,
      "outputs": []
    },
    {
      "cell_type": "code",
      "source": [
        "#variaveis booleanas\n",
        "#a elas sao atribuidos um valor verdade (VARDADEIRO OU FALSO)\n",
        "\n",
        "visao = True #atribue o valor verdade True a variavel visao\n",
        "audicao = False #atribui o valor verdade False  variavel audicao\n",
        "\n",
        "#testes logicos\n",
        "print(visao and audicao)\n",
        "print(visao or audicao)\n",
        "print(not visao)\n",
        "\n",
        "if(visao):\n",
        "  print(\"Ele nao e cego\")\n",
        "else:\n",
        "  print(\"ELe eh cego\")\n",
        "\n",
        "if(audicao):\n",
        "  print(\"Ele nao e mudo\")\n",
        "else:\n",
        "  print(\"Ele eh mudo\")\n",
        "\n",
        "if (not visao and not audicao):\n",
        "  print(\"Ele eh cego e mudo\")\n",
        "\n",
        "pv = 130\n",
        "mes = input(\"E quantos meses voce quer pagar? \")\n",
        "taxa_de_jeros = input(\"Qual a taxa de juros ao mês(em decimal)? \")\n",
        "valor_futuro = pv*((1+taxa_de_juros)**mes)\n",
        "nome = \"Ana\"\n",
        "duvida = 130\n",
        "print(\"Eu\", nome, \"pagarei daqui a \", mes, \"meses a quatia de \", valor_futuro)\n",
        "print(\"Eu {} pagarei daqui a {} meses a quantia de {}\".format(nome, mes, valor_futuro))"
      ],
      "metadata": {
        "id": "tSbtHx7LT0lF"
      },
      "execution_count": null,
      "outputs": []
    }
  ]
}